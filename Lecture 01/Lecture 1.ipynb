{
 "cells": [
  {
   "cell_type": "markdown",
   "metadata": {},
   "source": [
    "# 1.1 Encapsulation\n",
    "\n",
    "## 1.1.1 Public members"
   ]
  },
  {
   "cell_type": "code",
   "execution_count": 1,
   "metadata": {},
   "outputs": [],
   "source": [
    "class Employee:\n",
    "    #constructor\n",
    "    def __init__(self, name, salary, project) -> None:\n",
    "        self.name = name\n",
    "        self.salary = salary\n",
    "        self.project = project"
   ]
  },
  {
   "cell_type": "code",
   "execution_count": 2,
   "metadata": {},
   "outputs": [
    {
     "name": "stdout",
     "output_type": "stream",
     "text": [
      "Ole\n",
      "8000\n",
      "Encap\n"
     ]
    }
   ],
   "source": [
    "emp = Employee('Ole', 8000, 'Encap')\n",
    "\n",
    "# accsessing public members\n",
    "print(emp.name)\n",
    "print(emp.salary)\n",
    "print(emp.project)"
   ]
  },
  {
   "cell_type": "markdown",
   "metadata": {},
   "source": [
    "## 1.1.2 Private\n",
    "Private members are annotated with underscore `_`"
   ]
  },
  {
   "cell_type": "code",
   "execution_count": 3,
   "metadata": {},
   "outputs": [],
   "source": [
    "class Employee:\n",
    "    #constructor\n",
    "    def __init__(self, name, salary, project) -> None:\n",
    "        self.name = name\n",
    "        # Salary is set to private\n",
    "        self.__salary = salary\n",
    "        self.project = project"
   ]
  },
  {
   "cell_type": "code",
   "execution_count": 5,
   "metadata": {},
   "outputs": [
    {
     "name": "stdout",
     "output_type": "stream",
     "text": [
      "Ole\n"
     ]
    },
    {
     "ename": "AttributeError",
     "evalue": "'Employee' object has no attribute '__salary'",
     "output_type": "error",
     "traceback": [
      "\u001b[0;31m---------------------------------------------------------------------------\u001b[0m",
      "\u001b[0;31mAttributeError\u001b[0m                            Traceback (most recent call last)",
      "\u001b[1;32m/Users/ole/Documents/Skole/Cyber Physical Systems/Andre året/System modellering og arkitektur/coursets2080/encapsulation.ipynb Cell 6\u001b[0m in \u001b[0;36m<cell line: 5>\u001b[0;34m()\u001b[0m\n\u001b[1;32m      <a href='vscode-notebook-cell:/Users/ole/Documents/Skole/Cyber%20Physical%20Systems/Andre%20%C3%A5ret/System%20modellering%20og%20arkitektur/coursets2080/encapsulation.ipynb#W5sZmlsZQ%3D%3D?line=2'>3</a>\u001b[0m \u001b[39m# accsessing public members\u001b[39;00m\n\u001b[1;32m      <a href='vscode-notebook-cell:/Users/ole/Documents/Skole/Cyber%20Physical%20Systems/Andre%20%C3%A5ret/System%20modellering%20og%20arkitektur/coursets2080/encapsulation.ipynb#W5sZmlsZQ%3D%3D?line=3'>4</a>\u001b[0m \u001b[39mprint\u001b[39m(emp\u001b[39m.\u001b[39mname)\n\u001b[0;32m----> <a href='vscode-notebook-cell:/Users/ole/Documents/Skole/Cyber%20Physical%20Systems/Andre%20%C3%A5ret/System%20modellering%20og%20arkitektur/coursets2080/encapsulation.ipynb#W5sZmlsZQ%3D%3D?line=4'>5</a>\u001b[0m \u001b[39mprint\u001b[39m(emp\u001b[39m.\u001b[39;49m__salary)\n\u001b[1;32m      <a href='vscode-notebook-cell:/Users/ole/Documents/Skole/Cyber%20Physical%20Systems/Andre%20%C3%A5ret/System%20modellering%20og%20arkitektur/coursets2080/encapsulation.ipynb#W5sZmlsZQ%3D%3D?line=5'>6</a>\u001b[0m \u001b[39mprint\u001b[39m(emp\u001b[39m.\u001b[39mproject)\n",
      "\u001b[0;31mAttributeError\u001b[0m: 'Employee' object has no attribute '__salary'"
     ]
    }
   ],
   "source": [
    "emp = Employee('Ole', 8000, 'Encap')\n",
    "\n",
    "# accsessing public members\n",
    "print(emp.name)\n",
    "print(emp.__salary)\n",
    "print(emp.project)"
   ]
  },
  {
   "cell_type": "markdown",
   "metadata": {},
   "source": [
    "We can accsess private members by:\n",
    "- public method for accessing\n",
    "- Name mangling"
   ]
  },
  {
   "cell_type": "code",
   "execution_count": 6,
   "metadata": {},
   "outputs": [],
   "source": [
    "class Employee:\n",
    "    #constructor\n",
    "    def __init__(self, name, salary, project) -> None:\n",
    "        self.name = name\n",
    "        # Salary is set to private\n",
    "        self.__salary = salary\n",
    "        self.project = project\n",
    "    def show(self):\n",
    "        print(f'Name: {self.name}, Salary: {self.__salary}')"
   ]
  },
  {
   "cell_type": "code",
   "execution_count": 8,
   "metadata": {},
   "outputs": [
    {
     "name": "stdout",
     "output_type": "stream",
     "text": [
      "Name: Ole, Salary: 8000\n"
     ]
    }
   ],
   "source": [
    "emp = Employee('Ole', 8000, 'Encap')\n",
    "\n",
    "# accsessing public members\n",
    "emp.show()"
   ]
  },
  {
   "cell_type": "markdown",
   "metadata": {},
   "source": [
    " #### Name mangling"
   ]
  },
  {
   "cell_type": "code",
   "execution_count": 13,
   "metadata": {},
   "outputs": [
    {
     "name": "stdout",
     "output_type": "stream",
     "text": [
      "Salary: 8000\n"
     ]
    }
   ],
   "source": [
    "class Employee:\n",
    "    #constructor\n",
    "    def __init__(self, name, salary, project) -> None:\n",
    "        self.name = name\n",
    "        # Salary is set to private\n",
    "        self.__salary = salary\n",
    "        self.project = project\n",
    "\n",
    "\n",
    "emp = Employee('Ole', 8000, 'Encap')\n",
    "\n",
    "print(f'Salary: {emp._Employee__salary}')"
   ]
  },
  {
   "cell_type": "markdown",
   "metadata": {},
   "source": [
    "## 1.1.3 Protected members\n"
   ]
  },
  {
   "cell_type": "code",
   "execution_count": 18,
   "metadata": {},
   "outputs": [
    {
     "name": "stdout",
     "output_type": "stream",
     "text": [
      "Employee name: Ole\n",
      "Employee project: Encp\n"
     ]
    }
   ],
   "source": [
    "# base class\n",
    "class Company:\n",
    "    def __init__(self, project) -> None:\n",
    "        self._project = project\n",
    "# child class\n",
    "class Employee(Company):\n",
    "    def __init__(self,name, project) -> None:\n",
    "        self.name = name\n",
    "        Company.__init__(self, project)\n",
    "    def show(self):\n",
    "        print(f'Employee name: {self.name}')\n",
    "        print(f'Employee project: {self._project}')\n",
    "c = Employee('Ole', 'Encp')\n",
    "c.show()\n"
   ]
  }
 ],
 "metadata": {
  "kernelspec": {
   "display_name": "Python 3.10.4 ('Class1')",
   "language": "python",
   "name": "python3"
  },
  "language_info": {
   "codemirror_mode": {
    "name": "ipython",
    "version": 3
   },
   "file_extension": ".py",
   "mimetype": "text/x-python",
   "name": "python",
   "nbconvert_exporter": "python",
   "pygments_lexer": "ipython3",
   "version": "3.10.4"
  },
  "orig_nbformat": 4,
  "vscode": {
   "interpreter": {
    "hash": "ad99c1e9a1e41e7b31a92300098be34374a1f3b1e2b24ba238d0bc579423c13e"
   }
  }
 },
 "nbformat": 4,
 "nbformat_minor": 2
}
