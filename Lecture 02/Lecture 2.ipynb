{
 "cells": [
  {
   "cell_type": "markdown",
   "metadata": {},
   "source": [
    "# Abstraction"
   ]
  },
  {
   "cell_type": "code",
   "execution_count": 3,
   "metadata": {},
   "outputs": [],
   "source": [
    "from abc import ABC,abstractmethod \n",
    "  \n",
    "class Animal(ABC): \n",
    "  \n",
    "    #concrete method \n",
    "    # inherited \n",
    "    def sleep(self): \n",
    "        print(\"I am going to sleep in a while\") \n",
    "  \n",
    " \n",
    "    @abstractmethod \n",
    "    def sound(self): \n",
    "        print(\"This function is for defining the sound by any animal\") \n",
    " \n",
    "#Subclasses or child classes \n",
    "class Snake(Animal): \n",
    "    def sound(self): \n",
    "        print(\"I can hiss\") \n",
    "  \n",
    "class Dog(Animal): \n",
    "    def sound(self): \n",
    "        print(\"I can bark\") \n",
    "  \n",
    "class Lion(Animal): \n",
    "    def sound(self): \n",
    "        print(\"I can roar\") \n",
    "        \n",
    "class Cat(Animal): \n",
    "    #overriding \n",
    "    def sound(self): \n",
    "        print(\"I can meow\") "
   ]
  },
  {
   "cell_type": "code",
   "execution_count": 4,
   "metadata": {},
   "outputs": [
    {
     "name": "stdout",
     "output_type": "stream",
     "text": [
      "I am going to sleep in a while\n",
      "I can meow\n",
      "I can hiss\n",
      "I am going to sleep in a while\n"
     ]
    }
   ],
   "source": [
    "c = Cat() \n",
    "c.sleep() \n",
    "c.sound() \n",
    "  \n",
    "c = Snake()\n",
    "c.sound() \n",
    "c.sleep() "
   ]
  },
  {
   "cell_type": "code",
   "execution_count": 8,
   "metadata": {},
   "outputs": [
    {
     "name": "stdout",
     "output_type": "stream",
     "text": [
      "This function is for defining the sound by any animal\n",
      "I can squeak\n"
     ]
    }
   ],
   "source": [
    "class Rabbit(Animal): \n",
    "    def sound(self): \n",
    "        super().sound() \n",
    "        print(\"I can squeak\") \n",
    " \n",
    " \n",
    "c = Rabbit() \n",
    "c.sound() "
   ]
  },
  {
   "cell_type": "code",
   "execution_count": 12,
   "metadata": {},
   "outputs": [
    {
     "name": "stdout",
     "output_type": "stream",
     "text": [
      "I am going to sleep in a while\n"
     ]
    }
   ],
   "source": [
    "# Error since you can instantiate abstract class with creating a method \n",
    "class Deer(Animal): \n",
    "     \n",
    "    def sound(self): \n",
    "        pass \n",
    " \n",
    "c = Deer() \n",
    "c.sound() \n",
    "c.sleep()"
   ]
  },
  {
   "cell_type": "markdown",
   "metadata": {},
   "source": [
    "# Inheritance"
   ]
  },
  {
   "cell_type": "markdown",
   "metadata": {},
   "source": [
    "## Single member"
   ]
  },
  {
   "cell_type": "code",
   "execution_count": 16,
   "metadata": {},
   "outputs": [
    {
     "name": "stdout",
     "output_type": "stream",
     "text": [
      "Hello Parent\n",
      "Hello Child\n"
     ]
    }
   ],
   "source": [
    "# single inheritance example \n",
    "  \n",
    "class parent:\n",
    "    def func1(self):\n",
    "        print(\"Hello from Parent\")\n",
    "class child(parent):\n",
    "    def func2(self):\n",
    "        print(\"Hello from Child\")\n",
    "\n",
    "c = child()\n",
    "c.func1()\n",
    "c.func2()"
   ]
  },
  {
   "cell_type": "markdown",
   "metadata": {},
   "source": [
    "## Multiple member"
   ]
  },
  {
   "cell_type": "code",
   "execution_count": 17,
   "metadata": {},
   "outputs": [
    {
     "name": "stdout",
     "output_type": "stream",
     "text": [
      "Hello from Parent 1\n",
      "Hello from Parent 2\n",
      "Hello from Child\n",
      "(<class '__main__.child'>, <class '__main__.parent1'>, <class '__main__.parent2'>, <class '__main__.parent3'>, <class 'object'>)\n"
     ]
    }
   ],
   "source": [
    "class parent1:\n",
    "    def func1(self):\n",
    "        print(\"Hello from Parent 1\")\n",
    "class parent2:\n",
    "    def func2(self):\n",
    "        print(\"Hello from Parent 2\")\n",
    "class parent3:\n",
    "    def func2(self):\n",
    "        print(\"Hello from Parent 3\")\n",
    "\n",
    "class child(parent1, parent2, parent3):\n",
    "    def func3(self):\n",
    "        print(\"Hello from Child\")\n",
    "\n",
    "c = child()\n",
    "c.func1()\n",
    "c.func2()\n",
    "c.func3()\n",
    "\n",
    "print(child.__mro__)"
   ]
  },
  {
   "cell_type": "markdown",
   "metadata": {},
   "source": [
    "Isinstance()\n",
    "isinstance()"
   ]
  },
  {
   "cell_type": "code",
   "execution_count": 18,
   "metadata": {},
   "outputs": [
    {
     "name": "stdout",
     "output_type": "stream",
     "text": [
      "Is child subclass of parent? True\n",
      "Is parent subclass of child? False\n",
      "Is A an instance of child? True\n",
      "Is A an instance of parent? True\n",
      "Is B an instance of child? False\n",
      "Is B an instance of parent? True\n"
     ]
    }
   ],
   "source": [
    "class parent:\n",
    "    def func1():\n",
    "        print(\"Hello from Parent\")\n",
    "class child(parent):\n",
    "    def func2():\n",
    "        print(\"Hello from Child\")\n",
    "print(f\"Is child subclass of parent? {issubclass(child, parent)}\")\n",
    "print(f\"Is parent subclass of child? {issubclass(parent, child)}\")\n",
    "\n",
    "A = child()\n",
    "B = parent()\n",
    "\n",
    "print(f\"Is A an instance of child? {isinstance(A, child)}\")\n",
    "print(f\"Is A an instance of parent? {isinstance(A, parent)}\")\n",
    "print(f\"Is B an instance of child? {isinstance(B, child)}\")\n",
    "print(f\"Is B an instance of parent? {isinstance(B, parent)}\")"
   ]
  },
  {
   "cell_type": "markdown",
   "metadata": {},
   "source": [
    "# Polymorphism"
   ]
  },
  {
   "cell_type": "code",
   "execution_count": 19,
   "metadata": {},
   "outputs": [
    {
     "name": "stdout",
     "output_type": "stream",
     "text": [
      "Circle\n",
      "153.93804002589985\n",
      "I am a two-dimensional shape\n",
      "Square\n",
      "16\n",
      "I am a two-dimensional shape\n"
     ]
    }
   ],
   "source": [
    "from math import pi # Import dependecy\n",
    "\n",
    "class Shape:\n",
    "    def __init__(self, name) -> None:\n",
    "        self.name = name\n",
    "    def area(self): #Defines function signature\n",
    "        pass \n",
    "    def fact(self):\n",
    "        return \"I am a two-dimensional shape\"\n",
    "    def __str__(self) -> str:\n",
    "        return self.name\n",
    "class Circle(Shape):\n",
    "    def __init__(self, radius) -> None:\n",
    "        super().__init__(\"Circle\")\n",
    "        self.radius = radius\n",
    "    def area(self):\n",
    "        return pi * self.radius**2\n",
    "class Square(Shape):\n",
    "    def __init__(self, side) -> None:\n",
    "        super().__init__(\"Square\")\n",
    "        self.side = side\n",
    "    def area(self):\n",
    "        return self.side**2\n",
    "\n",
    "shape_circle = Circle(7)\n",
    "\n",
    "print(shape_circle)\n",
    "print(shape_circle.area())\n",
    "print(shape_circle.fact())\n",
    "\n",
    "square = Square(4)\n",
    "print(square)\n",
    "print(square.area())\n",
    "print(square.fact())"
   ]
  }
 ],
 "metadata": {
  "kernelspec": {
   "display_name": "Python 3.10.4 ('Class1')",
   "language": "python",
   "name": "python3"
  },
  "language_info": {
   "codemirror_mode": {
    "name": "ipython",
    "version": 3
   },
   "file_extension": ".py",
   "mimetype": "text/x-python",
   "name": "python",
   "nbconvert_exporter": "python",
   "pygments_lexer": "ipython3",
   "version": "3.10.4"
  },
  "orig_nbformat": 4,
  "vscode": {
   "interpreter": {
    "hash": "ad99c1e9a1e41e7b31a92300098be34374a1f3b1e2b24ba238d0bc579423c13e"
   }
  }
 },
 "nbformat": 4,
 "nbformat_minor": 2
}
